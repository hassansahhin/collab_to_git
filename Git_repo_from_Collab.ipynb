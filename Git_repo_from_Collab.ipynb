{
  "nbformat": 4,
  "nbformat_minor": 0,
  "metadata": {
    "colab": {
      "name": "Git repo from Collab.ipynb",
      "provenance": [],
      "collapsed_sections": [],
      "mount_file_id": "1Hi04B0r7ue3igOgtRiIGi318Kkjflmgs",
      "authorship_tag": "ABX9TyP8iMLEh0AK1bQwLEffN45M",
      "include_colab_link": true
    },
    "kernelspec": {
      "name": "python3",
      "display_name": "Python 3"
    },
    "language_info": {
      "name": "python"
    }
  },
  "cells": [
    {
      "cell_type": "markdown",
      "metadata": {
        "id": "view-in-github",
        "colab_type": "text"
      },
      "source": [
        "<a href=\"https://colab.research.google.com/github/hassansahhin/collab_to_git/blob/master/Git_repo_from_Collab.ipynb\" target=\"_parent\"><img src=\"https://colab.research.google.com/assets/colab-badge.svg\" alt=\"Open In Colab\"/></a>"
      ]
    },
    {
      "cell_type": "markdown",
      "metadata": {
        "id": "VkE26Fn0YHCG"
      },
      "source": [
        "# Task (1) Initialize google drive folder as a git repo and push it ot github"
      ]
    },
    {
      "cell_type": "markdown",
      "metadata": {
        "id": "ZvWpByo9YRZM"
      },
      "source": [
        "## Set the git configration"
      ]
    },
    {
      "cell_type": "code",
      "metadata": {
        "id": "7MGtKcRsYO56"
      },
      "source": [
        "!git config --global user.name \"hassansahhin\""
      ],
      "execution_count": 1,
      "outputs": []
    },
    {
      "cell_type": "code",
      "metadata": {
        "id": "AQY_JXg8YYCy"
      },
      "source": [
        "!git config --global user.email \"h.shahin.a-a@hotmail.com\""
      ],
      "execution_count": 2,
      "outputs": []
    },
    {
      "cell_type": "markdown",
      "metadata": {
        "id": "pXcK8mHxYet0"
      },
      "source": [
        "## Mount the google drive and cd to the drive"
      ]
    },
    {
      "cell_type": "code",
      "metadata": {
        "colab": {
          "base_uri": "https://localhost:8080/"
        },
        "id": "mhSJj6ctYdo6",
        "outputId": "8535859a-66fc-4995-e34e-143d605f8e9b"
      },
      "source": [
        "%cd drive/MyDrive/"
      ],
      "execution_count": 3,
      "outputs": [
        {
          "output_type": "stream",
          "name": "stdout",
          "text": [
            "/content/drive/MyDrive\n"
          ]
        }
      ]
    },
    {
      "cell_type": "markdown",
      "metadata": {
        "id": "TQZkeStzYth0"
      },
      "source": [
        "## Creat a new folder on the drive"
      ]
    },
    {
      "cell_type": "code",
      "metadata": {
        "id": "vvarg3AjYswD"
      },
      "source": [
        "!mkdir collab_to_git"
      ],
      "execution_count": 4,
      "outputs": []
    },
    {
      "cell_type": "code",
      "metadata": {
        "colab": {
          "base_uri": "https://localhost:8080/"
        },
        "id": "G0BqacJDY3Cl",
        "outputId": "fa487019-bc65-4cec-eee9-b11bde3253c2"
      },
      "source": [
        "%cd collab_to_git/"
      ],
      "execution_count": 5,
      "outputs": [
        {
          "output_type": "stream",
          "name": "stdout",
          "text": [
            "/content/drive/MyDrive/collab_to_git\n"
          ]
        }
      ]
    },
    {
      "cell_type": "markdown",
      "metadata": {
        "id": "lhvQyl3DY9K7"
      },
      "source": [
        "## initialize the empity folder to be a git repo"
      ]
    },
    {
      "cell_type": "code",
      "metadata": {
        "colab": {
          "base_uri": "https://localhost:8080/"
        },
        "id": "3thzI6wEY7ch",
        "outputId": "46524697-3ae7-4ffb-de16-aaea3a2e8fca"
      },
      "source": [
        "!git init"
      ],
      "execution_count": 6,
      "outputs": [
        {
          "output_type": "stream",
          "name": "stdout",
          "text": [
            "Initialized empty Git repository in /content/drive/MyDrive/collab_to_git/.git/\n"
          ]
        }
      ]
    },
    {
      "cell_type": "markdown",
      "metadata": {
        "id": "uJBZEkdjZEMl"
      },
      "source": [
        "## create a modular project on the folder"
      ]
    },
    {
      "cell_type": "code",
      "metadata": {
        "id": "8GwxscQhZC1s"
      },
      "source": [
        "!touch names.py"
      ],
      "execution_count": 7,
      "outputs": []
    },
    {
      "cell_type": "code",
      "metadata": {
        "id": "Dm4QjXrXZKno"
      },
      "source": [
        "!touch greet.py"
      ],
      "execution_count": 8,
      "outputs": []
    },
    {
      "cell_type": "code",
      "metadata": {
        "id": "qxx293ixZMpD"
      },
      "source": [
        "!touch readme.md"
      ],
      "execution_count": 9,
      "outputs": []
    },
    {
      "cell_type": "code",
      "metadata": {
        "id": "khErd0tFZOlL"
      },
      "source": [
        "!touch index.html"
      ],
      "execution_count": 10,
      "outputs": []
    },
    {
      "cell_type": "code",
      "metadata": {
        "colab": {
          "base_uri": "https://localhost:8080/"
        },
        "id": "Kx2vvV7SZRTy",
        "outputId": "881ae653-7cba-49c6-f5a3-c82676c99bbb"
      },
      "source": [
        "!python greet.py"
      ],
      "execution_count": 11,
      "outputs": [
        {
          "output_type": "stream",
          "name": "stdout",
          "text": [
            "hello hassan\n"
          ]
        }
      ]
    },
    {
      "cell_type": "markdown",
      "metadata": {
        "id": "omlHaVGoZoLg"
      },
      "source": [
        "## Check the status of the repo"
      ]
    },
    {
      "cell_type": "code",
      "metadata": {
        "colab": {
          "base_uri": "https://localhost:8080/"
        },
        "id": "ILVfeihmZlBM",
        "outputId": "507ba60c-a8de-49bc-d8bb-3e212183180b"
      },
      "source": [
        "!git status"
      ],
      "execution_count": 12,
      "outputs": [
        {
          "output_type": "stream",
          "name": "stdout",
          "text": [
            "On branch master\n",
            "\n",
            "No commits yet\n",
            "\n",
            "Untracked files:\n",
            "  (use \"git add <file>...\" to include in what will be committed)\n",
            "\n",
            "\t\u001b[31m__pycache__/\u001b[m\n",
            "\t\u001b[31mgreet.py\u001b[m\n",
            "\t\u001b[31mindex.html\u001b[m\n",
            "\t\u001b[31mnames.py\u001b[m\n",
            "\t\u001b[31mreadme.md\u001b[m\n",
            "\n",
            "nothing added to commit but untracked files present (use \"git add\" to track)\n"
          ]
        }
      ]
    },
    {
      "cell_type": "markdown",
      "metadata": {
        "id": "AKLwi6ahZuYE"
      },
      "source": [
        "## stage the changes and commit"
      ]
    },
    {
      "cell_type": "code",
      "metadata": {
        "id": "L7JIc3KBZsDc"
      },
      "source": [
        "!git add ."
      ],
      "execution_count": 13,
      "outputs": []
    },
    {
      "cell_type": "code",
      "metadata": {
        "colab": {
          "base_uri": "https://localhost:8080/"
        },
        "id": "_4OXyV4LZ1Iy",
        "outputId": "360008f5-7ed1-467e-954c-1925db497e25"
      },
      "source": [
        "!git commit -m \"feet: Initial commits\""
      ],
      "execution_count": 14,
      "outputs": [
        {
          "output_type": "stream",
          "name": "stdout",
          "text": [
            "[master (root-commit) 733d300] feet: Initial commits\n",
            " 5 files changed, 5 insertions(+)\n",
            " create mode 100644 __pycache__/names.cpython-37.pyc\n",
            " create mode 100644 greet.py\n",
            " create mode 100644 index.html\n",
            " create mode 100644 names.py\n",
            " create mode 100644 readme.md\n"
          ]
        }
      ]
    },
    {
      "cell_type": "markdown",
      "metadata": {
        "id": "0mMLWivWZ7Vd"
      },
      "source": [
        "## creat a repo on github"
      ]
    },
    {
      "cell_type": "markdown",
      "metadata": {
        "id": "PBN1SyRdaGz_"
      },
      "source": [
        "## create the remote origin and push the repo to gitbub"
      ]
    },
    {
      "cell_type": "markdown",
      "metadata": {
        "id": "dChUJqcuc-aE"
      },
      "source": [
        "## generate your access token from github  - setting - developer option"
      ]
    },
    {
      "cell_type": "markdown",
      "metadata": {
        "id": "n7hMS43idGGX"
      },
      "source": [
        "`!git config remote.origin.url 'https://{token}@github.com/{username}/{reponame}.git'`"
      ]
    },
    {
      "cell_type": "code",
      "metadata": {
        "id": "HqIzQW_uZ5_R"
      },
      "source": [
        "!git config remote.origin.url 'https://{token}@github.com/hassansahhin/collab_to_git.git'"
      ],
      "execution_count": 29,
      "outputs": []
    },
    {
      "cell_type": "markdown",
      "metadata": {
        "id": "0nzJFry5dg2F"
      },
      "source": [
        "## verify the remote url"
      ]
    },
    {
      "cell_type": "code",
      "metadata": {
        "id": "g3v9mgK5aZn4"
      },
      "source": [
        "!git remote -v"
      ],
      "execution_count": null,
      "outputs": []
    },
    {
      "cell_type": "markdown",
      "metadata": {
        "id": "WO0uF0dpdmMM"
      },
      "source": [
        "## Now Push"
      ]
    },
    {
      "cell_type": "code",
      "metadata": {
        "colab": {
          "base_uri": "https://localhost:8080/"
        },
        "id": "c7oqQln2af7i",
        "outputId": "1d70d2eb-2463-4262-fa5e-a8c91d7a03ad"
      },
      "source": [
        "!git push -u origin master"
      ],
      "execution_count": 31,
      "outputs": [
        {
          "output_type": "stream",
          "name": "stdout",
          "text": [
            "Counting objects: 8, done.\n",
            "Delta compression using up to 2 threads.\n",
            "Compressing objects:  25% (1/4)   \rCompressing objects:  50% (2/4)   \rCompressing objects:  75% (3/4)   \rCompressing objects: 100% (4/4)   \rCompressing objects: 100% (4/4), done.\n",
            "Writing objects:  12% (1/8)   \rWriting objects:  25% (2/8)   \rWriting objects:  37% (3/8)   \rWriting objects:  50% (4/8)   \rWriting objects:  62% (5/8)   \rWriting objects:  75% (6/8)   \rWriting objects:  87% (7/8)   \rWriting objects: 100% (8/8)   \rWriting objects: 100% (8/8), 679 bytes | 97.00 KiB/s, done.\n",
            "Total 8 (delta 0), reused 0 (delta 0)\n",
            "To https://github.com/hassansahhin/collab_to_git.git\n",
            " * [new branch]      master -> master\n",
            "Branch 'master' set up to track remote branch 'master' from 'origin'.\n"
          ]
        }
      ]
    },
    {
      "cell_type": "markdown",
      "metadata": {
        "id": "Z66WA856d4p8"
      },
      "source": [
        "# Task (2) create a new branch and pull request from existing repo"
      ]
    },
    {
      "cell_type": "markdown",
      "metadata": {
        "id": "WK0e4V5keMhs"
      },
      "source": [
        "## Move out form the google drive and clone an existing repo"
      ]
    },
    {
      "cell_type": "code",
      "metadata": {
        "colab": {
          "base_uri": "https://localhost:8080/"
        },
        "id": "6l6V63y4aj8s",
        "outputId": "30e08e99-e396-472d-e9ea-796483b33fa1"
      },
      "source": [
        "%cd /content"
      ],
      "execution_count": 34,
      "outputs": [
        {
          "output_type": "stream",
          "name": "stdout",
          "text": [
            "/content\n"
          ]
        }
      ]
    },
    {
      "cell_type": "code",
      "metadata": {
        "colab": {
          "base_uri": "https://localhost:8080/"
        },
        "id": "rczmN5_SeE-v",
        "outputId": "15767ae5-ebf0-4cff-ee7b-ac3100d95882"
      },
      "source": [
        "!git clone https://github.com/hassansahhin/collab_to_git.git"
      ],
      "execution_count": 35,
      "outputs": [
        {
          "output_type": "stream",
          "name": "stdout",
          "text": [
            "Cloning into 'collab_to_git'...\n",
            "remote: Enumerating objects: 8, done.\u001b[K\n",
            "remote: Counting objects: 100% (8/8), done.\u001b[K\n",
            "remote: Compressing objects: 100% (4/4), done.\u001b[K\n",
            "remote: Total 8 (delta 0), reused 8 (delta 0), pack-reused 0\u001b[K\n",
            "Unpacking objects: 100% (8/8), done.\n"
          ]
        }
      ]
    },
    {
      "cell_type": "markdown",
      "metadata": {
        "id": "pHfIUid2eg-9"
      },
      "source": [
        "## cd to the cloned repo"
      ]
    },
    {
      "cell_type": "code",
      "metadata": {
        "colab": {
          "base_uri": "https://localhost:8080/"
        },
        "id": "JxY3rEb1eax0",
        "outputId": "e9a341fb-f802-471f-a314-cae62188410f"
      },
      "source": [
        "%cd collab_to_git/"
      ],
      "execution_count": 36,
      "outputs": [
        {
          "output_type": "stream",
          "name": "stdout",
          "text": [
            "/content/collab_to_git\n"
          ]
        }
      ]
    },
    {
      "cell_type": "markdown",
      "metadata": {
        "id": "DcyfD_MrgIDd"
      },
      "source": [
        "## Create a new branch"
      ]
    },
    {
      "cell_type": "code",
      "metadata": {
        "colab": {
          "base_uri": "https://localhost:8080/"
        },
        "id": "vfj2CqTLf_q9",
        "outputId": "b2898caa-ff90-4f70-a5b8-5399740b78f5"
      },
      "source": [
        "!git branch"
      ],
      "execution_count": 42,
      "outputs": [
        {
          "output_type": "stream",
          "name": "stdout",
          "text": [
            "* \u001b[32mmaster\u001b[m\n"
          ]
        }
      ]
    },
    {
      "cell_type": "code",
      "metadata": {
        "id": "Qgqp7tBngM4s"
      },
      "source": [
        "!git branch sidebar"
      ],
      "execution_count": 43,
      "outputs": []
    },
    {
      "cell_type": "code",
      "metadata": {
        "colab": {
          "base_uri": "https://localhost:8080/"
        },
        "id": "BqXFjKnlgRGl",
        "outputId": "ce79694d-91ac-466c-c169-9bfaf2c165ae"
      },
      "source": [
        "!git branch"
      ],
      "execution_count": 44,
      "outputs": [
        {
          "output_type": "stream",
          "name": "stdout",
          "text": [
            "* \u001b[32mmaster\u001b[m\n",
            "  sidebar\u001b[m\n"
          ]
        }
      ]
    },
    {
      "cell_type": "markdown",
      "metadata": {
        "id": "11Tw_j8GgS_N"
      },
      "source": [
        "## checkout on the sidebar branch"
      ]
    },
    {
      "cell_type": "code",
      "metadata": {
        "colab": {
          "base_uri": "https://localhost:8080/"
        },
        "id": "2lkksJwTgXeu",
        "outputId": "29ae8d48-1e75-4d28-c803-9716e055eadb"
      },
      "source": [
        "!git checkout sidebar"
      ],
      "execution_count": 45,
      "outputs": [
        {
          "output_type": "stream",
          "name": "stdout",
          "text": [
            "M\tindex.html\n",
            "Switched to branch 'sidebar'\n"
          ]
        }
      ]
    },
    {
      "cell_type": "code",
      "metadata": {
        "colab": {
          "base_uri": "https://localhost:8080/"
        },
        "id": "mPDeDIfqgapY",
        "outputId": "f813ee82-1be5-4d2a-ba6b-c9d5c8032b1b"
      },
      "source": [
        "!git branch"
      ],
      "execution_count": 46,
      "outputs": [
        {
          "output_type": "stream",
          "name": "stdout",
          "text": [
            "  master\u001b[m\n",
            "* \u001b[32msidebar\u001b[m\n"
          ]
        }
      ]
    },
    {
      "cell_type": "markdown",
      "metadata": {
        "id": "HcNjwg2vfeBm"
      },
      "source": [
        "## create some changes in the html file"
      ]
    },
    {
      "cell_type": "markdown",
      "metadata": {
        "id": "eaM--JtifoWX"
      },
      "source": [
        "## check the repo status"
      ]
    },
    {
      "cell_type": "code",
      "metadata": {
        "colab": {
          "base_uri": "https://localhost:8080/"
        },
        "id": "pgw9eclSegPr",
        "outputId": "05e44db2-6229-498e-b87e-49ab11f388d9"
      },
      "source": [
        "!git status"
      ],
      "execution_count": 47,
      "outputs": [
        {
          "output_type": "stream",
          "name": "stdout",
          "text": [
            "On branch sidebar\n",
            "Changes not staged for commit:\n",
            "  (use \"git add <file>...\" to update what will be committed)\n",
            "  (use \"git checkout -- <file>...\" to discard changes in working directory)\n",
            "\n",
            "\t\u001b[31mmodified:   index.html\u001b[m\n",
            "\n",
            "no changes added to commit (use \"git add\" and/or \"git commit -a\")\n"
          ]
        }
      ]
    },
    {
      "cell_type": "markdown",
      "metadata": {
        "id": "IS0xTMYaftUQ"
      },
      "source": [
        "## stage and commit the changes "
      ]
    },
    {
      "cell_type": "code",
      "metadata": {
        "id": "f0Lfs2S9frUR"
      },
      "source": [
        "!git add index.html"
      ],
      "execution_count": 48,
      "outputs": []
    },
    {
      "cell_type": "code",
      "metadata": {
        "colab": {
          "base_uri": "https://localhost:8080/"
        },
        "id": "HsYZaqS0fy9E",
        "outputId": "aa1c7a47-e8ba-484a-facc-abbfcc7e232a"
      },
      "source": [
        "!git status"
      ],
      "execution_count": 49,
      "outputs": [
        {
          "output_type": "stream",
          "name": "stdout",
          "text": [
            "On branch sidebar\n",
            "Changes to be committed:\n",
            "  (use \"git reset HEAD <file>...\" to unstage)\n",
            "\n",
            "\t\u001b[32mmodified:   index.html\u001b[m\n",
            "\n"
          ]
        }
      ]
    },
    {
      "cell_type": "code",
      "metadata": {
        "colab": {
          "base_uri": "https://localhost:8080/"
        },
        "id": "Qi6w0qWof5ui",
        "outputId": "1a6eb54d-a252-4f63-cf37-204fdf980f70"
      },
      "source": [
        "!git commit -m 'docs: Udate the html file in the sidebar branch'"
      ],
      "execution_count": 50,
      "outputs": [
        {
          "output_type": "stream",
          "name": "stdout",
          "text": [
            "[sidebar 4aa6bb2] docs: Udate the html file in the sidebar branch\n",
            " 1 file changed, 1 insertion(+), 1 deletion(-)\n"
          ]
        }
      ]
    },
    {
      "cell_type": "markdown",
      "metadata": {
        "id": "tqGGnGsRgy9V"
      },
      "source": [
        "## may need to set the remote origin again\n",
        "\n",
        "* `!git config remote.origin.url 'https://{token}@github.com/{username}/{reponame}.git'`"
      ]
    },
    {
      "cell_type": "code",
      "metadata": {
        "id": "fwLIuFRGhRIN"
      },
      "source": [
        "!git config remote.origin.url 'https://{token}@github.com/hassansahhin/collab_to_git.git'"
      ],
      "execution_count": 52,
      "outputs": []
    },
    {
      "cell_type": "markdown",
      "metadata": {
        "id": "Bz1T8L7zg8vN"
      },
      "source": [
        "## push the new branch and the changes as a pull request"
      ]
    },
    {
      "cell_type": "code",
      "metadata": {
        "colab": {
          "base_uri": "https://localhost:8080/"
        },
        "id": "E2Q8TBWqg7Vn",
        "outputId": "1522c800-a02e-4356-cc9c-fda3e1a58dc4"
      },
      "source": [
        "!git push -u origin sidebar"
      ],
      "execution_count": 53,
      "outputs": [
        {
          "output_type": "stream",
          "name": "stdout",
          "text": [
            "Counting objects: 3, done.\n",
            "Delta compression using up to 2 threads.\n",
            "Compressing objects:  50% (1/2)   \rCompressing objects: 100% (2/2)   \rCompressing objects: 100% (2/2), done.\n",
            "Writing objects:  33% (1/3)   \rWriting objects:  66% (2/3)   \rWriting objects: 100% (3/3)   \rWriting objects: 100% (3/3), 321 bytes | 321.00 KiB/s, done.\n",
            "Total 3 (delta 1), reused 0 (delta 0)\n",
            "remote: Resolving deltas:   0% (0/1)\u001b[K\rremote: Resolving deltas: 100% (1/1)\u001b[K\rremote: Resolving deltas: 100% (1/1), completed with 1 local object.\u001b[K\n",
            "remote: \n",
            "remote: Create a pull request for 'sidebar' on GitHub by visiting:\u001b[K\n",
            "remote:      https://github.com/hassansahhin/collab_to_git/pull/new/sidebar\u001b[K\n",
            "remote: \n",
            "To https://github.com/hassansahhin/collab_to_git.git\n",
            " * [new branch]      sidebar -> sidebar\n",
            "Branch 'sidebar' set up to track remote branch 'sidebar' from 'origin'.\n"
          ]
        }
      ]
    },
    {
      "cell_type": "markdown",
      "metadata": {
        "id": "ns65Rw9ahnMw"
      },
      "source": [
        "## from github we can acceppt the pull request and merge the two branches"
      ]
    },
    {
      "cell_type": "markdown",
      "metadata": {
        "id": "MDNR2AVOiCRI"
      },
      "source": [
        "## Finnaly we can save this notebook on the github repo\n",
        "\n",
        "from `file` select `save a copy in github` find the repo then `save`"
      ]
    },
    {
      "cell_type": "markdown",
      "metadata": {
        "id": "7HJbDcNbh0zt"
      },
      "source": [
        "#Thanks for visiting my repo"
      ]
    }
  ]
}